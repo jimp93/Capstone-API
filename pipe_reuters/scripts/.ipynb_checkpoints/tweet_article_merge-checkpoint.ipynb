{
 "cells": [
  {
   "cell_type": "code",
   "execution_count": 1,
   "metadata": {},
   "outputs": [],
   "source": [
    "import bs4 as bs\n",
    "import pickle\n",
    "from bs4 import BeautifulSoup\n",
    "import requests\n",
    "import time\n",
    "import pandas as pd\n",
    "import os\n",
    "import numpy as np"
   ]
  },
  {
   "cell_type": "markdown",
   "metadata": {},
   "source": [
    "# make dataframe of articles scraped on colab using twitter outlinks"
   ]
  },
  {
   "cell_type": "code",
   "execution_count": 2,
   "metadata": {},
   "outputs": [],
   "source": [
    "# open the dic made in colab. The outlink from each tweet in the tweet_df is the key\n",
    "# the headline, section, article text and expanded url are the values\n",
    "# we only use outlinks for tweets where the tweet is differnt from the article headline, which we \n",
    "# found out be merging tweet_df and articles_df. Would be a waste of time to scrape those outlinks as \n",
    "# we already linked the tweet to article\n",
    "\n",
    "with open('../data/import_data/reuters_dic', 'rb') as f:\n",
    "    dic1=json.load(f)"
   ]
  },
  {
   "cell_type": "code",
   "execution_count": 3,
   "metadata": {
    "scrolled": true
   },
   "outputs": [],
   "source": [
    "outlink_art_df=pd.DataFrame.from_dict(dic1, orient = 'index', columns=['expURL', 'category', 'headline', 'date', 'text'])"
   ]
  },
  {
   "cell_type": "code",
   "execution_count": 4,
   "metadata": {
    "scrolled": true
   },
   "outputs": [],
   "source": [
    "outlink_art_df.reset_index(inplace=True)"
   ]
  },
  {
   "cell_type": "code",
   "execution_count": 5,
   "metadata": {},
   "outputs": [],
   "source": [
    "outlink_art_df.rename(columns={'index':'shortURL', 'text':'artText'}, inplace=True)"
   ]
  },
  {
   "cell_type": "markdown",
   "metadata": {},
   "source": [
    "# link tweets df to the df above (one article maybe linked to by more than one tweet)"
   ]
  },
  {
   "cell_type": "code",
   "execution_count": 6,
   "metadata": {},
   "outputs": [],
   "source": [
    "reuters_tweets = pd.read_csv('../data/reuters_tweets_df.csv', converters={\"Outlinks\": lambda x: x.strip(\"[]\").replace(\"'\",\"\").split(\", \")}, low_memory=False)"
   ]
  },
  {
   "cell_type": "code",
   "execution_count": 7,
   "metadata": {},
   "outputs": [],
   "source": [
    "reuters_tweets=reuters_tweets.explode('Outlinks')"
   ]
  },
  {
   "cell_type": "code",
   "execution_count": 8,
   "metadata": {},
   "outputs": [],
   "source": [
    "reuters_tweets.drop_duplicates(inplace=True)"
   ]
  },
  {
   "cell_type": "code",
   "execution_count": 9,
   "metadata": {},
   "outputs": [],
   "source": [
    "reuters_tweets.reset_index(drop=True, inplace=True)"
   ]
  },
  {
   "cell_type": "code",
   "execution_count": 10,
   "metadata": {},
   "outputs": [],
   "source": [
    "reuters_tweets.rename(columns={'headline':'tweetText','Outlinks': 'shortURL', 'Replies':'replies', 'Retweets': 'retweets', 'Likes':'likes'}, inplace=True)"
   ]
  },
  {
   "cell_type": "code",
   "execution_count": null,
   "metadata": {},
   "outputs": [],
   "source": []
  },
  {
   "cell_type": "code",
   "execution_count": 11,
   "metadata": {},
   "outputs": [],
   "source": [
    "tweet_sc_art_join = outlink_art_df.merge(reuters_tweets, on='shortURL', how='outer')"
   ]
  },
  {
   "cell_type": "code",
   "execution_count": 12,
   "metadata": {},
   "outputs": [],
   "source": [
    "tweet_sc_art_join.drop('date_x', axis=1, inplace=True)"
   ]
  },
  {
   "cell_type": "code",
   "execution_count": 13,
   "metadata": {},
   "outputs": [],
   "source": [
    "tweet_sc_art_join.drop_duplicates(inplace=True)"
   ]
  },
  {
   "cell_type": "code",
   "execution_count": 14,
   "metadata": {},
   "outputs": [],
   "source": [
    "tweet_sc_art_join.reset_index(drop=True, inplace=True)"
   ]
  },
  {
   "cell_type": "code",
   "execution_count": 15,
   "metadata": {},
   "outputs": [],
   "source": [
    "tweet_sc_art_join.rename(columns={'date_y':'date'}, inplace=True)"
   ]
  },
  {
   "cell_type": "markdown",
   "metadata": {},
   "source": [
    "# make another df linking the scraped articles and tweet where summary is same as headline"
   ]
  },
  {
   "cell_type": "code",
   "execution_count": 16,
   "metadata": {},
   "outputs": [],
   "source": [
    "with open('../data/reuters_articles_df', 'rb') as f:\n",
    "    reuters_scrape_articles=pickle.load(f)"
   ]
  },
  {
   "cell_type": "code",
   "execution_count": 17,
   "metadata": {},
   "outputs": [],
   "source": [
    "reuters_tw_art = reuters_scrape_articles.merge(reuters_tweets, left_on='headline', right_on='tweetText')"
   ]
  },
  {
   "cell_type": "code",
   "execution_count": 18,
   "metadata": {},
   "outputs": [],
   "source": [
    "reuters_tw_art.rename(columns={'URL':'expURL', 'text':'artText', 'date_x':'date', 'Text':'tweetText', 'Replies':'replies', 'Retweets':'retweets', 'Likes':'likes'}, inplace=True)"
   ]
  },
  {
   "cell_type": "code",
   "execution_count": 19,
   "metadata": {},
   "outputs": [],
   "source": [
    "reuters_tw_art.drop('date_y', axis=1, inplace=True)"
   ]
  },
  {
   "cell_type": "code",
   "execution_count": 20,
   "metadata": {},
   "outputs": [],
   "source": [
    "full_join = pd.concat([tweet_sc_art_join, reuters_tw_art])"
   ]
  },
  {
   "cell_type": "code",
   "execution_count": 21,
   "metadata": {},
   "outputs": [],
   "source": [
    "full_join.reset_index(drop=True, inplace=True)"
   ]
  },
  {
   "cell_type": "code",
   "execution_count": 34,
   "metadata": {},
   "outputs": [
    {
     "data": {
      "text/html": [
       "<div>\n",
       "<style scoped>\n",
       "    .dataframe tbody tr th:only-of-type {\n",
       "        vertical-align: middle;\n",
       "    }\n",
       "\n",
       "    .dataframe tbody tr th {\n",
       "        vertical-align: top;\n",
       "    }\n",
       "\n",
       "    .dataframe thead th {\n",
       "        text-align: right;\n",
       "    }\n",
       "</style>\n",
       "<table border=\"1\" class=\"dataframe\">\n",
       "  <thead>\n",
       "    <tr style=\"text-align: right;\">\n",
       "      <th></th>\n",
       "      <th>shortURL</th>\n",
       "      <th>expURL</th>\n",
       "      <th>category</th>\n",
       "      <th>headline</th>\n",
       "      <th>artText</th>\n",
       "      <th>tweetText</th>\n",
       "      <th>replies</th>\n",
       "      <th>retweets</th>\n",
       "      <th>likes</th>\n",
       "      <th>date</th>\n",
       "    </tr>\n",
       "  </thead>\n",
       "  <tbody>\n",
       "    <tr>\n",
       "      <th>0</th>\n",
       "      <td>https://reut.rs/3pJO0n0</td>\n",
       "      <td>https://www.reuters.com/article/us-auto-tech-a...</td>\n",
       "      <td>Autos</td>\n",
       "      <td>South Korea carmaker Kia's shares jump 14.5% o...</td>\n",
       "      <td>SEOUL (Reuters) - South Korea’s Kia Corp share...</td>\n",
       "      <td>Kia shares surged on reports it will soon sign...</td>\n",
       "      <td>5.0</td>\n",
       "      <td>11.0</td>\n",
       "      <td>31.0</td>\n",
       "      <td>2021-02-03</td>\n",
       "    </tr>\n",
       "    <tr>\n",
       "      <th>1</th>\n",
       "      <td>https://reut.rs/3pJO0n0</td>\n",
       "      <td>https://www.reuters.com/article/us-auto-tech-a...</td>\n",
       "      <td>Autos</td>\n",
       "      <td>South Korea carmaker Kia's shares jump 14.5% o...</td>\n",
       "      <td>SEOUL (Reuters) - South Korea’s Kia Corp share...</td>\n",
       "      <td>Kia shares surged after media reports in South...</td>\n",
       "      <td>4.0</td>\n",
       "      <td>22.0</td>\n",
       "      <td>46.0</td>\n",
       "      <td>2021-02-03</td>\n",
       "    </tr>\n",
       "    <tr>\n",
       "      <th>2</th>\n",
       "      <td>https://reut.rs/3pJO0n0</td>\n",
       "      <td>https://www.reuters.com/article/us-auto-tech-a...</td>\n",
       "      <td>Autos</td>\n",
       "      <td>South Korea carmaker Kia's shares jump 14.5% o...</td>\n",
       "      <td>SEOUL (Reuters) - South Korea’s Kia Corp share...</td>\n",
       "      <td>Shares in Kia jumped as much as 14.5% to hit i...</td>\n",
       "      <td>2.0</td>\n",
       "      <td>16.0</td>\n",
       "      <td>49.0</td>\n",
       "      <td>2021-02-03</td>\n",
       "    </tr>\n",
       "    <tr>\n",
       "      <th>3</th>\n",
       "      <td>https://reut.rs/3pJO0n0</td>\n",
       "      <td>https://www.reuters.com/article/us-auto-tech-a...</td>\n",
       "      <td>Autos</td>\n",
       "      <td>South Korea carmaker Kia's shares jump 14.5% o...</td>\n",
       "      <td>SEOUL (Reuters) - South Korea’s Kia Corp share...</td>\n",
       "      <td>South Korea’s Kia shares surged to their highe...</td>\n",
       "      <td>5.0</td>\n",
       "      <td>29.0</td>\n",
       "      <td>71.0</td>\n",
       "      <td>2021-02-03</td>\n",
       "    </tr>\n",
       "    <tr>\n",
       "      <th>4</th>\n",
       "      <td>http://reut.rs/3rgokyL</td>\n",
       "      <td>https://www.reuters.com/article/us-usa-trump-c...</td>\n",
       "      <td>U.S. Legal News</td>\n",
       "      <td>Exclusive: U.S. mulls using law designed to pr...</td>\n",
       "      <td>WASHINGTON (Reuters) - The U.S. Justice Depart...</td>\n",
       "      <td>Exclusive: U.S</td>\n",
       "      <td>44.0</td>\n",
       "      <td>75.0</td>\n",
       "      <td>283.0</td>\n",
       "      <td>2021-02-03</td>\n",
       "    </tr>\n",
       "    <tr>\n",
       "      <th>...</th>\n",
       "      <td>...</td>\n",
       "      <td>...</td>\n",
       "      <td>...</td>\n",
       "      <td>...</td>\n",
       "      <td>...</td>\n",
       "      <td>...</td>\n",
       "      <td>...</td>\n",
       "      <td>...</td>\n",
       "      <td>...</td>\n",
       "      <td>...</td>\n",
       "    </tr>\n",
       "    <tr>\n",
       "      <th>670968</th>\n",
       "      <td>http://reut.rs/3sRHCL4</td>\n",
       "      <td>https://www.reuters.com/lifestyle/sports/wta-r...</td>\n",
       "      <td>Sports</td>\n",
       "      <td>WTA roundup: Ashleigh Barty into Stuttgart final</td>\n",
       "      <td>2021-04-24 20:39:19 GMT+00:00 - Top seed and W...</td>\n",
       "      <td>WTA roundup: Ashleigh Barty into Stuttgart final</td>\n",
       "      <td>0.0</td>\n",
       "      <td>5.0</td>\n",
       "      <td>37.0</td>\n",
       "      <td>2021-04-24 00:00:00</td>\n",
       "    </tr>\n",
       "    <tr>\n",
       "      <th>670969</th>\n",
       "      <td>http://reut.rs/3hd74aQ</td>\n",
       "      <td>https://www.reuters.com/world/us/three-charged...</td>\n",
       "      <td>United States</td>\n",
       "      <td>Florida 'cyber grave robbers' charged with con...</td>\n",
       "      <td>Sept 8 (Reuters) - A man and two women were ar...</td>\n",
       "      <td>Florida 'cyber grave robbers' charged with con...</td>\n",
       "      <td>6.0</td>\n",
       "      <td>17.0</td>\n",
       "      <td>40.0</td>\n",
       "      <td>2021-09-08 00:00:00</td>\n",
       "    </tr>\n",
       "    <tr>\n",
       "      <th>670970</th>\n",
       "      <td>http://reut.rs/2Vuycuy</td>\n",
       "      <td>https://www.reuters.com/world/us/three-charged...</td>\n",
       "      <td>United States</td>\n",
       "      <td>Florida 'cyber grave robbers' charged with con...</td>\n",
       "      <td>Sept 8 (Reuters) - A man and two women were ar...</td>\n",
       "      <td>Florida 'cyber grave robbers' charged with con...</td>\n",
       "      <td>2.0</td>\n",
       "      <td>15.0</td>\n",
       "      <td>41.0</td>\n",
       "      <td>2021-09-08 00:00:00</td>\n",
       "    </tr>\n",
       "    <tr>\n",
       "      <th>670971</th>\n",
       "      <td>http://reut.rs/3hBQDVf</td>\n",
       "      <td>https://www.reuters.com/lifestyle/sports/medve...</td>\n",
       "      <td>Sports</td>\n",
       "      <td>Medvedev claws back two-set deficit to beat Cilic</td>\n",
       "      <td>LONDON, July 3 (Reuters) - Second seed Daniil ...</td>\n",
       "      <td>Medvedev claws back two-set deficit to beat Cilic</td>\n",
       "      <td>7.0</td>\n",
       "      <td>6.0</td>\n",
       "      <td>38.0</td>\n",
       "      <td>2021-07-03 00:00:00</td>\n",
       "    </tr>\n",
       "    <tr>\n",
       "      <th>670972</th>\n",
       "      <td>http://reut.rs/368INNv</td>\n",
       "      <td>https://www.reuters.com/lifestyle/sports/medve...</td>\n",
       "      <td>Sports</td>\n",
       "      <td>Medvedev claws back two-set deficit to beat Cilic</td>\n",
       "      <td>LONDON, July 3 (Reuters) - Second seed Daniil ...</td>\n",
       "      <td>Medvedev claws back two-set deficit to beat Cilic</td>\n",
       "      <td>2.0</td>\n",
       "      <td>8.0</td>\n",
       "      <td>55.0</td>\n",
       "      <td>2021-07-03 00:00:00</td>\n",
       "    </tr>\n",
       "  </tbody>\n",
       "</table>\n",
       "<p>670973 rows × 10 columns</p>\n",
       "</div>"
      ],
      "text/plain": [
       "                       shortURL  \\\n",
       "0       https://reut.rs/3pJO0n0   \n",
       "1       https://reut.rs/3pJO0n0   \n",
       "2       https://reut.rs/3pJO0n0   \n",
       "3       https://reut.rs/3pJO0n0   \n",
       "4        http://reut.rs/3rgokyL   \n",
       "...                         ...   \n",
       "670968   http://reut.rs/3sRHCL4   \n",
       "670969   http://reut.rs/3hd74aQ   \n",
       "670970   http://reut.rs/2Vuycuy   \n",
       "670971   http://reut.rs/3hBQDVf   \n",
       "670972   http://reut.rs/368INNv   \n",
       "\n",
       "                                                   expURL         category  \\\n",
       "0       https://www.reuters.com/article/us-auto-tech-a...            Autos   \n",
       "1       https://www.reuters.com/article/us-auto-tech-a...            Autos   \n",
       "2       https://www.reuters.com/article/us-auto-tech-a...            Autos   \n",
       "3       https://www.reuters.com/article/us-auto-tech-a...            Autos   \n",
       "4       https://www.reuters.com/article/us-usa-trump-c...  U.S. Legal News   \n",
       "...                                                   ...              ...   \n",
       "670968  https://www.reuters.com/lifestyle/sports/wta-r...           Sports   \n",
       "670969  https://www.reuters.com/world/us/three-charged...    United States   \n",
       "670970  https://www.reuters.com/world/us/three-charged...    United States   \n",
       "670971  https://www.reuters.com/lifestyle/sports/medve...           Sports   \n",
       "670972  https://www.reuters.com/lifestyle/sports/medve...           Sports   \n",
       "\n",
       "                                                 headline  \\\n",
       "0       South Korea carmaker Kia's shares jump 14.5% o...   \n",
       "1       South Korea carmaker Kia's shares jump 14.5% o...   \n",
       "2       South Korea carmaker Kia's shares jump 14.5% o...   \n",
       "3       South Korea carmaker Kia's shares jump 14.5% o...   \n",
       "4       Exclusive: U.S. mulls using law designed to pr...   \n",
       "...                                                   ...   \n",
       "670968   WTA roundup: Ashleigh Barty into Stuttgart final   \n",
       "670969  Florida 'cyber grave robbers' charged with con...   \n",
       "670970  Florida 'cyber grave robbers' charged with con...   \n",
       "670971  Medvedev claws back two-set deficit to beat Cilic   \n",
       "670972  Medvedev claws back two-set deficit to beat Cilic   \n",
       "\n",
       "                                                  artText  \\\n",
       "0       SEOUL (Reuters) - South Korea’s Kia Corp share...   \n",
       "1       SEOUL (Reuters) - South Korea’s Kia Corp share...   \n",
       "2       SEOUL (Reuters) - South Korea’s Kia Corp share...   \n",
       "3       SEOUL (Reuters) - South Korea’s Kia Corp share...   \n",
       "4       WASHINGTON (Reuters) - The U.S. Justice Depart...   \n",
       "...                                                   ...   \n",
       "670968  2021-04-24 20:39:19 GMT+00:00 - Top seed and W...   \n",
       "670969  Sept 8 (Reuters) - A man and two women were ar...   \n",
       "670970  Sept 8 (Reuters) - A man and two women were ar...   \n",
       "670971  LONDON, July 3 (Reuters) - Second seed Daniil ...   \n",
       "670972  LONDON, July 3 (Reuters) - Second seed Daniil ...   \n",
       "\n",
       "                                                tweetText  replies  retweets  \\\n",
       "0       Kia shares surged on reports it will soon sign...      5.0      11.0   \n",
       "1       Kia shares surged after media reports in South...      4.0      22.0   \n",
       "2       Shares in Kia jumped as much as 14.5% to hit i...      2.0      16.0   \n",
       "3       South Korea’s Kia shares surged to their highe...      5.0      29.0   \n",
       "4                                          Exclusive: U.S     44.0      75.0   \n",
       "...                                                   ...      ...       ...   \n",
       "670968   WTA roundup: Ashleigh Barty into Stuttgart final      0.0       5.0   \n",
       "670969  Florida 'cyber grave robbers' charged with con...      6.0      17.0   \n",
       "670970  Florida 'cyber grave robbers' charged with con...      2.0      15.0   \n",
       "670971  Medvedev claws back two-set deficit to beat Cilic      7.0       6.0   \n",
       "670972  Medvedev claws back two-set deficit to beat Cilic      2.0       8.0   \n",
       "\n",
       "        likes                 date  \n",
       "0        31.0           2021-02-03  \n",
       "1        46.0           2021-02-03  \n",
       "2        49.0           2021-02-03  \n",
       "3        71.0           2021-02-03  \n",
       "4       283.0           2021-02-03  \n",
       "...       ...                  ...  \n",
       "670968   37.0  2021-04-24 00:00:00  \n",
       "670969   40.0  2021-09-08 00:00:00  \n",
       "670970   41.0  2021-09-08 00:00:00  \n",
       "670971   38.0  2021-07-03 00:00:00  \n",
       "670972   55.0  2021-07-03 00:00:00  \n",
       "\n",
       "[670973 rows x 10 columns]"
      ]
     },
     "execution_count": 34,
     "metadata": {},
     "output_type": "execute_result"
    }
   ],
   "source": [
    "#full join is essentially reconstructing the original tweets dataframe, adding the articles. \n",
    "# we did this by linking rows where tweet was same as headline (cnn_tw_art) and by retrieving \n",
    "# articles where they weren't by opening the hyperlink in the tweet and scraping article (tweet_sc_art_join). \n",
    "full_join"
   ]
  },
  {
   "cell_type": "markdown",
   "metadata": {},
   "source": [
    "# Make df of all articles, joining original scrape with twitter links"
   ]
  },
  {
   "cell_type": "code",
   "execution_count": 22,
   "metadata": {},
   "outputs": [],
   "source": [
    "# we have the original scraped article df, but we may have found more when scraping from the tweet hyperlinks\n",
    "# need to concat the two dataframes and drop duplicates \n",
    "reuters_scrape_articles.drop_duplicates(subset='headline', inplace=True)"
   ]
  },
  {
   "cell_type": "code",
   "execution_count": 23,
   "metadata": {},
   "outputs": [],
   "source": [
    "reuters_scrape_articles.rename(columns={'text':'artText', 'URL':'expURL'}, inplace=True)"
   ]
  },
  {
   "cell_type": "code",
   "execution_count": 24,
   "metadata": {},
   "outputs": [],
   "source": [
    "article_analysis = pd.concat([reuters_scrape_articles, full_join])"
   ]
  },
  {
   "cell_type": "code",
   "execution_count": 25,
   "metadata": {},
   "outputs": [],
   "source": [
    "article_analysis.drop(['replies', 'retweets', 'likes', 'tweetText', 'shortURL'], axis=1, inplace=True)"
   ]
  },
  {
   "cell_type": "code",
   "execution_count": 26,
   "metadata": {},
   "outputs": [],
   "source": [
    "article_analysis.drop_duplicates(subset=['headline', 'artText'], inplace=True)"
   ]
  },
  {
   "cell_type": "code",
   "execution_count": 27,
   "metadata": {},
   "outputs": [],
   "source": [
    "article_analysis.reset_index(drop=True, inplace=True)"
   ]
  },
  {
   "cell_type": "code",
   "execution_count": 28,
   "metadata": {},
   "outputs": [],
   "source": [
    "article_analysis=article_analysis.dropna(subset=['artText'])"
   ]
  },
  {
   "cell_type": "code",
   "execution_count": 29,
   "metadata": {},
   "outputs": [],
   "source": [
    "index_names = article_analysis[article_analysis['artText'] == 'blanket' ].index\n",
    "article_analysis.drop(index_names, inplace=True)"
   ]
  },
  {
   "cell_type": "code",
   "execution_count": 30,
   "metadata": {},
   "outputs": [],
   "source": [
    "article_analysis.drop_duplicates(subset='headline', inplace=True)"
   ]
  },
  {
   "cell_type": "code",
   "execution_count": 31,
   "metadata": {},
   "outputs": [],
   "source": [
    "article_analysis.reset_index(drop=True, inplace=True)"
   ]
  },
  {
   "cell_type": "code",
   "execution_count": 32,
   "metadata": {},
   "outputs": [],
   "source": [
    "article_analysis['date'] = article_analysis['date'].replace('nan', np.nan).fillna(0)"
   ]
  },
  {
   "cell_type": "code",
   "execution_count": 33,
   "metadata": {},
   "outputs": [],
   "source": [
    "article_analysis['date']=article_analysis['date'].astype(str)\n",
    "article_analysis['date'] =article_analysis['date'].apply(lambda x: x[:10])"
   ]
  },
  {
   "cell_type": "code",
   "execution_count": 34,
   "metadata": {},
   "outputs": [],
   "source": [
    "with open('../data/reuters_articles_analysis', 'wb') as f:\n",
    "    pickle.dump(article_analysis, f)"
   ]
  },
  {
   "cell_type": "markdown",
   "metadata": {},
   "source": [
    "# Make df of all tweets, linked to the article"
   ]
  },
  {
   "cell_type": "code",
   "execution_count": 35,
   "metadata": {},
   "outputs": [],
   "source": [
    "twitter_article_analysis=full_join.copy()"
   ]
  },
  {
   "cell_type": "code",
   "execution_count": 36,
   "metadata": {},
   "outputs": [],
   "source": [
    "twitter_article_analysis.drop('shortURL', axis=1, inplace=True)"
   ]
  },
  {
   "cell_type": "code",
   "execution_count": 37,
   "metadata": {},
   "outputs": [],
   "source": [
    "twitter_article_analysis['date'] = twitter_article_analysis['date'].astype(str)\n",
    "twitter_article_analysis['date'] = twitter_article_analysis['date'].apply(lambda x: x[:10])"
   ]
  },
  {
   "cell_type": "code",
   "execution_count": 38,
   "metadata": {},
   "outputs": [],
   "source": [
    "with open('../data/reuters_twitter_articles_analysis', 'wb') as f:\n",
    "    pickle.dump(twitter_article_analysis, f)"
   ]
  },
  {
   "cell_type": "code",
   "execution_count": null,
   "metadata": {},
   "outputs": [],
   "source": []
  }
 ],
 "metadata": {
  "kernelspec": {
   "display_name": "Python (learn-env)",
   "language": "python",
   "name": "learn-env"
  },
  "language_info": {
   "codemirror_mode": {
    "name": "ipython",
    "version": 3
   },
   "file_extension": ".py",
   "mimetype": "text/x-python",
   "name": "python",
   "nbconvert_exporter": "python",
   "pygments_lexer": "ipython3",
   "version": "3.8.5"
  },
  "toc": {
   "base_numbering": 1,
   "nav_menu": {},
   "number_sections": true,
   "sideBar": true,
   "skip_h1_title": false,
   "title_cell": "Table of Contents",
   "title_sidebar": "Contents",
   "toc_cell": false,
   "toc_position": {},
   "toc_section_display": true,
   "toc_window_display": false
  }
 },
 "nbformat": 4,
 "nbformat_minor": 4
}
