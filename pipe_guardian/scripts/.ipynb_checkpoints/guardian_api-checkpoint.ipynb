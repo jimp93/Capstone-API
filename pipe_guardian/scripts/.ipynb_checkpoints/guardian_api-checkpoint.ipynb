{
 "cells": [
  {
   "cell_type": "code",
   "execution_count": 12,
   "metadata": {},
   "outputs": [],
   "source": [
    "import json\n",
    "import requests\n",
    "import os\n",
    "from os import makedirs\n",
    "from os.path import join, exists\n",
    "from datetime import date, timedelta\n",
    "import time\n",
    "from pathlib import Path"
   ]
  },
  {
   "cell_type": "code",
   "execution_count": 8,
   "metadata": {
    "scrolled": true
   },
   "outputs": [],
   "source": [
    "path = Path(os.getcwd())\n",
    "\n",
    "levels_up = 4\n",
    "root=path.parents[levels_up+0]\n",
    "kpath=f'{root}\\gk.txt'\n",
    "MY_API_KEY = open(kpath).read()"
   ]
  },
  {
   "cell_type": "code",
   "execution_count": 48,
   "metadata": {
    "collapsed": true
   },
   "outputs": [
    {
     "name": "stdout",
     "output_type": "stream",
     "text": [
      "Downloading 2022-02-27\n",
      "...page 1\n",
      "calls = 1\n",
      "...page 2\n",
      "calls = 2\n",
      "215\n",
      "Downloading 2022-02-28\n",
      "...page 1\n",
      "calls = 3\n",
      "...page 2\n",
      "calls = 4\n",
      "225\n",
      "Downloading 2022-03-01\n",
      "...page 1\n",
      "calls = 5\n",
      "...page 2\n",
      "calls = 6\n",
      "237\n"
     ]
    }
   ],
   "source": [
    "API_ENDPOINT = 'http://content.guardianapis.com/search'\n",
    "my_params = {\n",
    "    'from-date': \"\",\n",
    "    'to-date': \"\",\n",
    "    'order-by': \"newest\",\n",
    "    'show-fields': 'all',\n",
    "    'page-size': 200,\n",
    "    'api-key': MY_API_KEY\n",
    "}\n",
    "\n",
    "all_res=[]\n",
    "start_date = date(2022, 2, 27)\n",
    "count=0\n",
    "# there is a daily download limit, so split the date into batches. The stories up until present day were \n",
    "# donwloaded previous day\n",
    "end_date = date(2022, 3, 1)\n",
    "dayrange = range((end_date - start_date).days + 1)\n",
    "for daycount in dayrange:\n",
    "    dt = start_date + timedelta(days=daycount)\n",
    "    datestr = dt.strftime('%Y-%m-%d')\n",
    "    fname = f'../data/tempdata/articles/{datestr}.json'\n",
    "    if not exists(fname):\n",
    "        all_results = []\n",
    "        my_params['from-date'] = datestr\n",
    "        my_params['to-date'] = datestr\n",
    "        current_page = 1\n",
    "        total_pages = 1\n",
    "        while current_page <= total_pages:\n",
    "            my_params['page'] = current_page\n",
    "            count+=1\n",
    "            resp = requests.get(API_ENDPOINT, my_params)\n",
    "            data = resp.json()\n",
    "            all_results.extend(data['response']['results'])\n",
    "            # if there is more than one page\n",
    "            current_page += 1\n",
    "            time.sleep(0.08)\n",
    "            total_pages = data['response']['pages']\n",
    "        with open(fname, 'w') as f:\n",
    "            f.write(json.dumps(all_results, indent=2))"
   ]
  },
  {
   "cell_type": "code",
   "execution_count": 11,
   "metadata": {},
   "outputs": [],
   "source": [
    "directory = '../data/tempdata/articles'\n",
    " \n",
    "# iterate over files in\n",
    "# that directory and create dic from json file. Only include features stipulated\n",
    "article_responses = []\n",
    "for filename in os.listdir(directory):\n",
    "    json_file_path = os.path.join(directory, filename)\n",
    "    with open(json_file_path, 'r') as j:\n",
    "        contents = json.loads(j.read())\n",
    "        contents = [item for item in contents if item['type']=='article']\n",
    "        for con in contents:\n",
    "            new_dic={}\n",
    "            for k in ['id', 'sectionId', 'webPublicationDate']:\n",
    "                new_dic[k] = con[k]\n",
    "                for f in ['headline', 'byline', 'wordcount', 'bodyText']:\n",
    "                    try:\n",
    "                        new_dic[f] = con['fields'][f]\n",
    "                    except:\n",
    "                        new_dic[f] = f'no {f}'\n",
    "            article_responses.append(new_dic)\n",
    "                    "
   ]
  },
  {
   "cell_type": "code",
   "execution_count": 13,
   "metadata": {},
   "outputs": [],
   "source": [
    "with open(\"../data/guardian_articles.json\", 'w') as fl:\n",
    "    json.dump(article_responses, fl, indent=2) "
   ]
  }
 ],
 "metadata": {
  "kernelspec": {
   "display_name": "Python (learn-env)",
   "language": "python",
   "name": "learn-env"
  },
  "language_info": {
   "codemirror_mode": {
    "name": "ipython",
    "version": 3
   },
   "file_extension": ".py",
   "mimetype": "text/x-python",
   "name": "python",
   "nbconvert_exporter": "python",
   "pygments_lexer": "ipython3",
   "version": "3.8.5"
  },
  "toc": {
   "base_numbering": 1,
   "nav_menu": {},
   "number_sections": true,
   "sideBar": true,
   "skip_h1_title": false,
   "title_cell": "Table of Contents",
   "title_sidebar": "Contents",
   "toc_cell": false,
   "toc_position": {},
   "toc_section_display": true,
   "toc_window_display": false
  }
 },
 "nbformat": 4,
 "nbformat_minor": 4
}
