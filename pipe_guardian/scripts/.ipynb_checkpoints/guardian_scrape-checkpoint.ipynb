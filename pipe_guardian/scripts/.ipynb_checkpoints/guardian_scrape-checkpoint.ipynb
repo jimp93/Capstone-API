{
 "cells": [
  {
   "cell_type": "code",
   "execution_count": 1,
   "metadata": {},
   "outputs": [],
   "source": [
    "import json\n",
    "import pandas as pd\n",
    "import pickle"
   ]
  },
  {
   "cell_type": "code",
   "execution_count": 3,
   "metadata": {},
   "outputs": [],
   "source": [
    "f = open('../data/tempdata/articles/guardian_articles.json')\n",
    "guardian_articles = json.load(f)"
   ]
  },
  {
   "cell_type": "code",
   "execution_count": 4,
   "metadata": {},
   "outputs": [],
   "source": [
    "guardian_articles_df = pd.DataFrame(guardian_articles)"
   ]
  },
  {
   "cell_type": "code",
   "execution_count": 5,
   "metadata": {},
   "outputs": [],
   "source": [
    "guardian_articles_df = guardian_articles_df[['headline', 'bodyText', 'sectionId', 'webPublicationDate']]"
   ]
  },
  {
   "cell_type": "code",
   "execution_count": 6,
   "metadata": {},
   "outputs": [],
   "source": [
    "guardian_articles_df.rename(columns = {'bodyText':'text', 'sectionId':'category', 'webPublicationDate':'date'}, inplace = True)"
   ]
  },
  {
   "cell_type": "code",
   "execution_count": 21,
   "metadata": {},
   "outputs": [],
   "source": [
    "with open('articles/guardian_articles_df', 'wb') as f:\n",
    "    pickle.dump(guardian_articles_df, f)"
   ]
  },
  {
   "cell_type": "code",
   "execution_count": 7,
   "metadata": {},
   "outputs": [
    {
     "data": {
      "text/plain": [
       "world                                   69829\n",
       "commentisfree                           58200\n",
       "football                                53082\n",
       "sport                                   50381\n",
       "music                                   33407\n",
       "                                        ...  \n",
       "bunya-productions-the-leadership            1\n",
       "wa-museum-discovering-ancient-greece        1\n",
       "hugo-boss-man-of-today                      1\n",
       "hbf-healthy-choices                         1\n",
       "social-enterprise-network                   1\n",
       "Name: category, Length: 274, dtype: int64"
      ]
     },
     "execution_count": 7,
     "metadata": {},
     "output_type": "execute_result"
    }
   ],
   "source": [
    "guardian_articles_df.category.value_counts()"
   ]
  },
  {
   "cell_type": "code",
   "execution_count": 8,
   "metadata": {},
   "outputs": [
    {
     "data": {
      "text/html": [
       "<div>\n",
       "<style scoped>\n",
       "    .dataframe tbody tr th:only-of-type {\n",
       "        vertical-align: middle;\n",
       "    }\n",
       "\n",
       "    .dataframe tbody tr th {\n",
       "        vertical-align: top;\n",
       "    }\n",
       "\n",
       "    .dataframe thead th {\n",
       "        text-align: right;\n",
       "    }\n",
       "</style>\n",
       "<table border=\"1\" class=\"dataframe\">\n",
       "  <thead>\n",
       "    <tr style=\"text-align: right;\">\n",
       "      <th></th>\n",
       "      <th>headline</th>\n",
       "      <th>text</th>\n",
       "      <th>category</th>\n",
       "      <th>date</th>\n",
       "    </tr>\n",
       "  </thead>\n",
       "  <tbody>\n",
       "    <tr>\n",
       "      <th>0</th>\n",
       "      <td>David Moyes tries to make his mark while spect...</td>\n",
       "      <td>In the worst moments, a press release dropped ...</td>\n",
       "      <td>football</td>\n",
       "      <td>2013-11-09T23:49:00Z</td>\n",
       "    </tr>\n",
       "    <tr>\n",
       "      <th>1</th>\n",
       "      <td>Lee Dickson was the sharp maestro but the audi...</td>\n",
       "      <td>On the face of it, two perfectly respectable h...</td>\n",
       "      <td>sport</td>\n",
       "      <td>2013-11-09T23:35:38Z</td>\n",
       "    </tr>\n",
       "    <tr>\n",
       "      <th>2</th>\n",
       "      <td>Miami Herald journalist Jim Wyss released by V...</td>\n",
       "      <td>An American reporter who had been held by Vene...</td>\n",
       "      <td>world</td>\n",
       "      <td>2013-11-09T23:28:00Z</td>\n",
       "    </tr>\n",
       "    <tr>\n",
       "      <th>3</th>\n",
       "      <td>Allan McNish and Audi claim World Endurance Ch...</td>\n",
       "      <td>After a storming season in the World Endurance...</td>\n",
       "      <td>sport</td>\n",
       "      <td>2013-11-09T23:17:56Z</td>\n",
       "    </tr>\n",
       "    <tr>\n",
       "      <th>4</th>\n",
       "      <td>England 31-12 Argentina: how the players rated...</td>\n",
       "      <td>15 Mike Brown 7/10 Solid stuff after last week...</td>\n",
       "      <td>sport</td>\n",
       "      <td>2013-11-09T23:12:16Z</td>\n",
       "    </tr>\n",
       "    <tr>\n",
       "      <th>...</th>\n",
       "      <td>...</td>\n",
       "      <td>...</td>\n",
       "      <td>...</td>\n",
       "      <td>...</td>\n",
       "    </tr>\n",
       "    <tr>\n",
       "      <th>735915</th>\n",
       "      <td>Russian oligarchs in UK face new laws tackling...</td>\n",
       "      <td>Boris Johnson has said that Russian oligarchs ...</td>\n",
       "      <td>politics</td>\n",
       "      <td>2022-02-28T00:01:27Z</td>\n",
       "    </tr>\n",
       "    <tr>\n",
       "      <th>735916</th>\n",
       "      <td>UK faith leaders call on Boris Johnson to not ...</td>\n",
       "      <td>Representatives from the six major religions a...</td>\n",
       "      <td>uk-news</td>\n",
       "      <td>2022-02-28T00:01:27Z</td>\n",
       "    </tr>\n",
       "    <tr>\n",
       "      <th>735917</th>\n",
       "      <td>Birmingham to host six-month arts festival for...</td>\n",
       "      <td>Birmingham will benefit from “the great gift o...</td>\n",
       "      <td>uk-news</td>\n",
       "      <td>2022-02-28T00:01:27Z</td>\n",
       "    </tr>\n",
       "    <tr>\n",
       "      <th>735918</th>\n",
       "      <td>The Strange Case of Dr Jekyll and Mr Hyde revi...</td>\n",
       "      <td>Two years ago the idea would have been prepost...</td>\n",
       "      <td>stage</td>\n",
       "      <td>2022-02-28T00:01:26Z</td>\n",
       "    </tr>\n",
       "    <tr>\n",
       "      <th>735919</th>\n",
       "      <td>Thousands of girls as young as 11 in England h...</td>\n",
       "      <td>Thousands of girls as young as 11 are hiding s...</td>\n",
       "      <td>society</td>\n",
       "      <td>2022-02-28T00:01:26Z</td>\n",
       "    </tr>\n",
       "  </tbody>\n",
       "</table>\n",
       "<p>735920 rows × 4 columns</p>\n",
       "</div>"
      ],
      "text/plain": [
       "                                                 headline  \\\n",
       "0       David Moyes tries to make his mark while spect...   \n",
       "1       Lee Dickson was the sharp maestro but the audi...   \n",
       "2       Miami Herald journalist Jim Wyss released by V...   \n",
       "3       Allan McNish and Audi claim World Endurance Ch...   \n",
       "4       England 31-12 Argentina: how the players rated...   \n",
       "...                                                   ...   \n",
       "735915  Russian oligarchs in UK face new laws tackling...   \n",
       "735916  UK faith leaders call on Boris Johnson to not ...   \n",
       "735917  Birmingham to host six-month arts festival for...   \n",
       "735918  The Strange Case of Dr Jekyll and Mr Hyde revi...   \n",
       "735919  Thousands of girls as young as 11 in England h...   \n",
       "\n",
       "                                                     text  category  \\\n",
       "0       In the worst moments, a press release dropped ...  football   \n",
       "1       On the face of it, two perfectly respectable h...     sport   \n",
       "2       An American reporter who had been held by Vene...     world   \n",
       "3       After a storming season in the World Endurance...     sport   \n",
       "4       15 Mike Brown 7/10 Solid stuff after last week...     sport   \n",
       "...                                                   ...       ...   \n",
       "735915  Boris Johnson has said that Russian oligarchs ...  politics   \n",
       "735916  Representatives from the six major religions a...   uk-news   \n",
       "735917  Birmingham will benefit from “the great gift o...   uk-news   \n",
       "735918  Two years ago the idea would have been prepost...     stage   \n",
       "735919  Thousands of girls as young as 11 are hiding s...   society   \n",
       "\n",
       "                        date  \n",
       "0       2013-11-09T23:49:00Z  \n",
       "1       2013-11-09T23:35:38Z  \n",
       "2       2013-11-09T23:28:00Z  \n",
       "3       2013-11-09T23:17:56Z  \n",
       "4       2013-11-09T23:12:16Z  \n",
       "...                      ...  \n",
       "735915  2022-02-28T00:01:27Z  \n",
       "735916  2022-02-28T00:01:27Z  \n",
       "735917  2022-02-28T00:01:27Z  \n",
       "735918  2022-02-28T00:01:26Z  \n",
       "735919  2022-02-28T00:01:26Z  \n",
       "\n",
       "[735920 rows x 4 columns]"
      ]
     },
     "execution_count": 8,
     "metadata": {},
     "output_type": "execute_result"
    }
   ],
   "source": [
    "guardian_articles_df"
   ]
  },
  {
   "cell_type": "code",
   "execution_count": null,
   "metadata": {},
   "outputs": [],
   "source": []
  }
 ],
 "metadata": {
  "kernelspec": {
   "display_name": "Python (learn-env)",
   "language": "python",
   "name": "learn-env"
  },
  "language_info": {
   "codemirror_mode": {
    "name": "ipython",
    "version": 3
   },
   "file_extension": ".py",
   "mimetype": "text/x-python",
   "name": "python",
   "nbconvert_exporter": "python",
   "pygments_lexer": "ipython3",
   "version": "3.8.5"
  },
  "toc": {
   "base_numbering": 1,
   "nav_menu": {},
   "number_sections": true,
   "sideBar": true,
   "skip_h1_title": false,
   "title_cell": "Table of Contents",
   "title_sidebar": "Contents",
   "toc_cell": false,
   "toc_position": {},
   "toc_section_display": true,
   "toc_window_display": false
  }
 },
 "nbformat": 4,
 "nbformat_minor": 4
}
